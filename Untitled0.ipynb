{
  "nbformat": 4,
  "nbformat_minor": 0,
  "metadata": {
    "colab": {
      "name": "Untitled0.ipynb",
      "provenance": [],
      "authorship_tag": "ABX9TyMOSoU599cvSrJ1xHr0xwuv",
      "include_colab_link": true
    },
    "kernelspec": {
      "name": "python3",
      "display_name": "Python 3"
    },
    "language_info": {
      "name": "python"
    }
  },
  "cells": [
    {
      "cell_type": "markdown",
      "metadata": {
        "id": "view-in-github",
        "colab_type": "text"
      },
      "source": [
        "<a href=\"https://colab.research.google.com/github/Srinathrio/Srinath/blob/main/Untitled0.ipynb\" target=\"_parent\"><img src=\"https://colab.research.google.com/assets/colab-badge.svg\" alt=\"Open In Colab\"/></a>"
      ]
    },
    {
      "cell_type": "code",
      "execution_count": null,
      "metadata": {
        "id": "8EXD52OQCq1P",
        "colab": {
          "base_uri": "https://localhost:8080/"
        },
        "outputId": "1049b334-fc43-4293-e99c-d48a681ab394"
      },
      "outputs": [
        {
          "output_type": "stream",
          "name": "stdout",
          "text": [
            "10 100 200 300\n",
            "10.5 150.0\n",
            "3.14j 3.14 0.0\n"
          ]
        }
      ],
      "source": [
        "a=0b1010\n",
        "b=100\n",
        "c=0o310\n",
        "d=0x12c\n",
        "float_1= 10.5\n",
        "float_2= 1.5e2\n",
        "x= 3.14j\n",
        "print(a,b,c, d)\n",
        "print(float_1, float_2)\n",
        "print(x, x.imag, x.real)"
      ]
    },
    {
      "cell_type": "code",
      "source": [
        ""
      ],
      "metadata": {
        "id": "wxTk7-Q-Mm3P"
      },
      "execution_count": null,
      "outputs": []
    },
    {
      "cell_type": "code",
      "source": [
        "a = int(input(\"Enter a=5 \"));  \n",
        "b = int(input(\"Enter b=10 \"));  \n",
        "c = int(input(\"Enter c=15 \"));  \n",
        "if a>b and a>c:  \n",
        "    print(\"a is largest\");  \n",
        "if b>a and b>c:  \n",
        "    print(\"b is largest\");  \n",
        "if c>a and c>b:  \n",
        "    print(\"c is largest\"); "
      ],
      "metadata": {
        "colab": {
          "base_uri": "https://localhost:8080/"
        },
        "id": "FJ06DfESN33_",
        "outputId": "8b4b2cf3-b3c5-4545-cfba-50156191753c"
      },
      "execution_count": 3,
      "outputs": [
        {
          "output_type": "stream",
          "name": "stdout",
          "text": [
            "Enter a=5 20\n",
            "Enter b=10 8\n",
            "Enter c=15 30\n",
            "c is largest\n"
          ]
        }
      ]
    },
    {
      "cell_type": "code",
      "source": [
        "x=int(input(\"Enter x=200\"));\n",
        "y=int(input(\"Enter y=500\"));\n",
        "z=int(input(\"Enter z=800\"));\n",
        "if x<y and x<z:\n",
        "     print(\"x is lesser value\");\n",
        "if y<z and y<x:\n",
        "     print(\"y is lesser value\");\n",
        "if z<x and z<y:\n",
        "     print(\"z is lesser value\");\n",
        "        "
      ],
      "metadata": {
        "colab": {
          "base_uri": "https://localhost:8080/"
        },
        "id": "udL_clYFUjoA",
        "outputId": "37984e98-e8f8-4c5a-fc33-08e4974d416d"
      },
      "execution_count": 1,
      "outputs": [
        {
          "output_type": "stream",
          "name": "stdout",
          "text": [
            "Enter x=200388\n",
            "Enter y=500765\n",
            "Enter z=800876\n",
            "x is lesser value\n"
          ]
        }
      ]
    },
    {
      "cell_type": "code",
      "source": [
        "x = 10\n",
        "if x % 2 == 0:\n",
        "  print('even number')\n",
        "elif x % 2 == 1:\n",
        "  print('odd number')\n",
        "else:\n",
        "  print('enter a number')\n",
        "\n",
        "\n",
        "\n",
        "\n"
      ],
      "metadata": {
        "colab": {
          "base_uri": "https://localhost:8080/"
        },
        "id": "DuoPO6wFP-0_",
        "outputId": "db6ee7b9-1c18-4481-dc27-e30cec4c96c3"
      },
      "execution_count": 8,
      "outputs": [
        {
          "output_type": "stream",
          "name": "stdout",
          "text": [
            "even number\n"
          ]
        }
      ]
    },
    {
      "cell_type": "code",
      "source": [
        "a = 10\n",
        "b = 20\n",
        "if a > b and a > 10 :\n",
        "  print(\"greater\")\n",
        "elif a < b or a < 10:\n",
        "  print(\"smaller\")\n",
        "else:\n",
        "  print(\"not a valid number\")"
      ],
      "metadata": {
        "colab": {
          "base_uri": "https://localhost:8080/"
        },
        "id": "80lHZIckQ_cg",
        "outputId": "4794179c-868a-4727-c259-68be435d48bd"
      },
      "execution_count": 9,
      "outputs": [
        {
          "output_type": "stream",
          "name": "stdout",
          "text": [
            "smaller\n"
          ]
        }
      ]
    },
    {
      "cell_type": "code",
      "source": [
        "x = 10\n",
        "if x != 0:\n",
        "   if x % 2 == 0:\n",
        "      print('even number')\n",
        "   else:\n",
        "      print('odd number')\n",
        "elif x == 0:\n",
        "   print('equal to zero')\n",
        "elif x > 0:\n",
        "  for i in range(2,x):\n",
        "     if i % 2 == 0:\n",
        "        print('not a prime number')\n",
        "     else:\n",
        "        print('prime number')\n",
        "else:\n",
        "   print('less than zero')"
      ],
      "metadata": {
        "colab": {
          "base_uri": "https://localhost:8080/"
        },
        "id": "Nq5xnLr5RF_d",
        "outputId": "c754f320-90ac-4dd9-a105-73befa0affe4"
      },
      "execution_count": 10,
      "outputs": [
        {
          "output_type": "stream",
          "name": "stdout",
          "text": [
            "even number\n"
          ]
        }
      ]
    },
    {
      "cell_type": "code",
      "source": [
        ""
      ],
      "metadata": {
        "id": "jW_kwsIEUAoO"
      },
      "execution_count": null,
      "outputs": []
    },
    {
      "cell_type": "code",
      "source": [
        "strings=\"This is python\"\n",
        "char=\"c\"\n",
        "multiline_str=\"\"\"This is multiline string with more than one line code\"\"\"\n",
        "unicode= u\"\\u00dcnic\\u00fde\"\n",
        "raw_str= r\"raw \\n string\"\n",
        "print(strings)\n",
        "print(char)\n",
        "print(multiline_str)\n",
        "print(unicode)\n",
        "print(raw_str)\n"
      ],
      "metadata": {
        "colab": {
          "base_uri": "https://localhost:8080/"
        },
        "id": "volrhRHoue5R",
        "outputId": "6ea488a0-a4a5-47c1-bf17-2cc2d7c3407d"
      },
      "execution_count": null,
      "outputs": [
        {
          "output_type": "stream",
          "name": "stdout",
          "text": [
            "This is python\n",
            "c\n",
            "This is multiline string with more than one line code\n",
            "Ünicýe\n",
            "raw \\n string\n"
          ]
        }
      ]
    },
    {
      "cell_type": "code",
      "source": [
        "x = (1==True)\n",
        "y = (1==False)\n",
        "a = True + 4\n",
        "b = False + 10\n",
        "print(\"x is\", x)\n",
        "print(\"y is\", y)\n",
        "print(\"a:\",a)\n",
        "print(\"b:\",b)"
      ],
      "metadata": {
        "colab": {
          "base_uri": "https://localhost:8080/"
        },
        "id": "WUg4w8BzxpHA",
        "outputId": "36f4b939-6184-42ae-9420-76b602d44090"
      },
      "execution_count": null,
      "outputs": [
        {
          "output_type": "stream",
          "name": "stdout",
          "text": [
            "x is True\n",
            "y is False\n",
            "a: 5\n",
            "b: 10\n"
          ]
        }
      ]
    },
    {
      "cell_type": "code",
      "source": [
        "drink=\"Available\"\n",
        "food=None\n",
        "def menu(x):\n",
        "    if x==drink:\n",
        "       print(drink)\n",
        "    else:\n",
        "      print(food)\n",
        " "
      ],
      "metadata": {
        "id": "b40nhkt2zPZU"
      },
      "execution_count": null,
      "outputs": []
    },
    {
      "cell_type": "code",
      "source": [
        "fruits=[\"apple\", \"mango\", \"orange\"]\n",
        "numbers=(1, 2, 3)\n",
        "alphabets={'a': 'apple', 'b': 'ball', 'c': 'cat'}\n",
        "vowels={'a', 'e', 'i', 'o', 'u'}\n",
        "print(fruits)\n",
        "print(numbers)\n",
        "print(alphabets)\n",
        "print(vowels)"
      ],
      "metadata": {
        "colab": {
          "base_uri": "https://localhost:8080/"
        },
        "id": "ObZy5u6l0uGX",
        "outputId": "051de839-63bd-4ab2-e205-5df8cfc6b434"
      },
      "execution_count": null,
      "outputs": [
        {
          "output_type": "stream",
          "name": "stdout",
          "text": [
            "['apple', 'mango', 'orange']\n",
            "(1, 2, 3)\n",
            "{'a': 'apple', 'b': 'ball', 'c': 'cat'}\n",
            "{'i', 'e', 'u', 'a', 'o'}\n"
          ]
        }
      ]
    },
    {
      "cell_type": "code",
      "source": [
        "print(\"choice 1: Add, 2: Sub, 3: Div, 4: Mul, 5: Quit\")\n",
        "n1=input(\"Enter the choice of operation:\")\n",
        "n=int(n1)\n",
        "if(n==1):\n",
        "    print(\"You have choosen addition option:\")\n",
        "    a1=input(\"Enter the value for A:\")\n",
        "    b1=input(\"Enter the value for B:\")\n",
        "    a=int(a1)\n",
        "    b=int(b1)\n",
        "    c=a+b\n",
        "    print(\"The Result\",a,\"+\",b,\"=\",c)\n",
        "    print(\"You have choosen subraction option:\")\n",
        "    a1=input(\"Enter the value for A:\")\n",
        "    b1=input(\"Enter the value for B:\")\n",
        "    a=int(a1)\n",
        "    b=int(b1)\n",
        "    c=a-b\n",
        "    print(\"The Result\",a,\"-\",b,\"=\",c)\n",
        "elif(n==3):\n",
        "    print(\"You have choosen division option\")\n",
        "    a1=input(\"Enter the value for A:\")\n",
        "    b1=input(\"Enter the value for B:\")\n",
        "    a=int(a1)\n",
        "    b=int(b1)\n",
        "    c=a/b\n",
        "    print(\"The Result\",a,\"/\",b,\"=\",c)\n",
        "elif(n==4):\n",
        "    print(\"You have choosen multiplication option\")\n",
        "    a1=input(\"Enter the value for A:\")\n",
        "    b1=input(\"Enter the value for B:\") \n",
        "    a=int(a1)\n",
        "    b=(b1)\n",
        "    c=a*b\n",
        "    print(\"The Result\",a,\"*\",b\"=\",c)\n",
        "elif(n==5):\n",
        "    print(\"You have given a wrong:\",n)\n",
        "    exit()    \n"
      ],
      "metadata": {
        "colab": {
          "base_uri": "https://localhost:8080/"
        },
        "id": "ISogjBLl2CWV",
        "outputId": "27dbdc06-46c6-4418-a171-1ab67a0cc756"
      },
      "execution_count": null,
      "outputs": [
        {
          "output_type": "stream",
          "name": "stdout",
          "text": [
            "choice 1: Add, 2: Sub, 3: Div, 4: Mul, 5: Quit\n",
            "Enter the choice of operation:3\n",
            "You have choosen division option\n",
            "Enter the value for A:2\n",
            "Enter the value for B:4\n",
            "The Result 2 / 4 = 0.5\n"
          ]
        }
      ]
    },
    {
      "cell_type": "code",
      "source": [
        "x=20+20.5\n",
        "print(\"+ operator is Evaluated=\",x) "
      ],
      "metadata": {
        "colab": {
          "base_uri": "https://localhost:8080/"
        },
        "id": "NcspCeGO8BZM",
        "outputId": "ed67b08c-be8e-4560-eaa1-e166c9262ebc"
      },
      "execution_count": null,
      "outputs": [
        {
          "output_type": "stream",
          "name": "stdout",
          "text": [
            "+ operator is Evaluated= 40.5\n"
          ]
        }
      ]
    },
    {
      "cell_type": "code",
      "source": [
        "x=200+20.0*5\n",
        "print(\"* operator is Evaluated=\",x)"
      ],
      "metadata": {
        "colab": {
          "base_uri": "https://localhost:8080/"
        },
        "id": "f_aO47oa9Qso",
        "outputId": "d67b0329-802f-4960-b771-5741974ea10e"
      },
      "execution_count": null,
      "outputs": [
        {
          "output_type": "stream",
          "name": "stdout",
          "text": [
            "* operator is Evaluated= 300.0\n"
          ]
        }
      ]
    },
    {
      "cell_type": "code",
      "source": [
        "x=20+20/2*5\n",
        "print(\"/ operator is Evaluated=\",x)"
      ],
      "metadata": {
        "colab": {
          "base_uri": "https://localhost:8080/"
        },
        "id": "LkPCyJ5j9k0Z",
        "outputId": "4e891457-2343-452c-e75f-60506ee39e6b"
      },
      "execution_count": null,
      "outputs": [
        {
          "output_type": "stream",
          "name": "stdout",
          "text": [
            "/ operator is Evaluated= 70.0\n"
          ]
        }
      ]
    },
    {
      "cell_type": "code",
      "source": [
        "x=100*5+(10%2)**1\n",
        "print(x)"
      ],
      "metadata": {
        "colab": {
          "base_uri": "https://localhost:8080/"
        },
        "id": "6LS79XAX9xOD",
        "outputId": "8fccb489-9d20-4aa3-981c-850678515156"
      },
      "execution_count": null,
      "outputs": [
        {
          "output_type": "stream",
          "name": "stdout",
          "text": [
            "500\n"
          ]
        }
      ]
    },
    {
      "cell_type": "code",
      "source": [
        "print(\"Fibonocci Series\")\n",
        "n1=input(\"Enter the number:\")\n",
        "n=int(n1)\n",
        "if(n>0):\n",
        "     f=0\n",
        "     s=1\n",
        "     i=0\n",
        "     next=0\n",
        "     while(1):\n",
        "       print(\"\\n\\********\")\n",
        "       for i in range(n+1):\n",
        "         if(i<=1):\n",
        "           print(i)\n",
        "         else:\n",
        "           next=f+sf=s\n",
        "           s=next\n",
        "           print(next)\n",
        "         i=i+1\n",
        "break\n",
        "         else:\n",
        "            print(\"You have entered wrong input\",n)     "
      ],
      "metadata": {
        "colab": {
          "base_uri": "https://localhost:8080/",
          "height": 131
        },
        "id": "U_8YCJ-A-Awq",
        "outputId": "5603c6ff-c68d-406c-911e-d0b68bf27e6d"
      },
      "execution_count": null,
      "outputs": [
        {
          "output_type": "error",
          "ename": "IndentationError",
          "evalue": "ignored",
          "traceback": [
            "\u001b[0;36m  File \u001b[0;32m\"<ipython-input-32-400df852bda7>\"\u001b[0;36m, line \u001b[0;32m20\u001b[0m\n\u001b[0;31m    else:\u001b[0m\n\u001b[0m    ^\u001b[0m\n\u001b[0;31mIndentationError\u001b[0m\u001b[0;31m:\u001b[0m unexpected indent\n"
          ]
        }
      ]
    },
    {
      "cell_type": "code",
      "source": [
        ""
      ],
      "metadata": {
        "id": "8cbonqhxqaks"
      },
      "execution_count": null,
      "outputs": []
    },
    {
      "cell_type": "code",
      "source": [
        ""
      ],
      "metadata": {
        "id": "85VNd-S4qtY9"
      },
      "execution_count": null,
      "outputs": []
    },
    {
      "cell_type": "code",
      "source": [
        "a=10\n",
        "b=15\n",
        "c=a+b\n",
        "c"
      ],
      "metadata": {
        "colab": {
          "base_uri": "https://localhost:8080/"
        },
        "id": "zqxBXlMqC2jS",
        "outputId": "f35a097d-8110-4d49-b6a9-1ecec5113822"
      },
      "execution_count": null,
      "outputs": [
        {
          "output_type": "execute_result",
          "data": {
            "text/plain": [
              "25"
            ]
          },
          "metadata": {},
          "execution_count": 4
        }
      ]
    },
    {
      "cell_type": "code",
      "source": [
        "x=100\n",
        "y=200\n",
        "z=x-y\n",
        "z"
      ],
      "metadata": {
        "colab": {
          "base_uri": "https://localhost:8080/"
        },
        "id": "GxlMD4W-D-uU",
        "outputId": "5ab615fb-d773-4c9f-c546-36a8b10abe19"
      },
      "execution_count": null,
      "outputs": [
        {
          "output_type": "execute_result",
          "data": {
            "text/plain": [
              "-100"
            ]
          },
          "metadata": {},
          "execution_count": 5
        }
      ]
    },
    {
      "cell_type": "code",
      "source": [
        "x=13e4\n",
        "print(x)\n",
        "type(x)"
      ],
      "metadata": {
        "colab": {
          "base_uri": "https://localhost:8080/"
        },
        "id": "oXjnLqjyGPFq",
        "outputId": "037cfc92-a784-4afa-badb-ddec1914a80e"
      },
      "execution_count": null,
      "outputs": [
        {
          "output_type": "stream",
          "name": "stdout",
          "text": [
            "130000.0\n"
          ]
        },
        {
          "output_type": "execute_result",
          "data": {
            "text/plain": [
              "float"
            ]
          },
          "metadata": {},
          "execution_count": 6
        }
      ]
    },
    {
      "cell_type": "code",
      "source": [
        "x=18j\n",
        "type(x)"
      ],
      "metadata": {
        "colab": {
          "base_uri": "https://localhost:8080/"
        },
        "id": "cyddIUl3GbxY",
        "outputId": "92568948-66b9-4ae3-c814-4b3826e6d4e9"
      },
      "execution_count": null,
      "outputs": [
        {
          "output_type": "execute_result",
          "data": {
            "text/plain": [
              "complex"
            ]
          },
          "metadata": {},
          "execution_count": 7
        }
      ]
    },
    {
      "cell_type": "code",
      "source": [
        "numb=10<4\n",
        "type(numb)\n",
        "numb"
      ],
      "metadata": {
        "colab": {
          "base_uri": "https://localhost:8080/"
        },
        "id": "dujqmDczGoOP",
        "outputId": "7eefa3b6-f9ad-4246-ba5f-05d6aea25e63"
      },
      "execution_count": null,
      "outputs": [
        {
          "output_type": "execute_result",
          "data": {
            "text/plain": [
              "False"
            ]
          },
          "metadata": {},
          "execution_count": 9
        }
      ]
    },
    {
      "cell_type": "code",
      "source": [
        "name=\"harish\"\n",
        "print(name)"
      ],
      "metadata": {
        "colab": {
          "base_uri": "https://localhost:8080/"
        },
        "id": "ZvAbojHRG1rA",
        "outputId": "550fdf79-6bcf-48af-c258-f34e4d2dc677"
      },
      "execution_count": null,
      "outputs": [
        {
          "output_type": "stream",
          "name": "stdout",
          "text": [
            "harish\n"
          ]
        }
      ]
    },
    {
      "cell_type": "code",
      "source": [
        "name=\"srinath\"\n",
        "len(name)"
      ],
      "metadata": {
        "colab": {
          "base_uri": "https://localhost:8080/"
        },
        "id": "6R43NSDAIWbB",
        "outputId": "2b1e9972-87c9-4103-d07b-17661a8c33a5"
      },
      "execution_count": null,
      "outputs": [
        {
          "output_type": "execute_result",
          "data": {
            "text/plain": [
              "7"
            ]
          },
          "metadata": {},
          "execution_count": 16
        }
      ]
    },
    {
      "cell_type": "code",
      "source": [
        "name=\"windows\"\n",
        "name[2:6]"
      ],
      "metadata": {
        "colab": {
          "base_uri": "https://localhost:8080/",
          "height": 35
        },
        "id": "3tI2hAitIj2k",
        "outputId": "d72d7b94-460c-465f-8e98-27434b04fd80"
      },
      "execution_count": null,
      "outputs": [
        {
          "output_type": "execute_result",
          "data": {
            "application/vnd.google.colaboratory.intrinsic+json": {
              "type": "string"
            },
            "text/plain": [
              "'ndow'"
            ]
          },
          "metadata": {},
          "execution_count": 19
        }
      ]
    },
    {
      "cell_type": "code",
      "source": [
        "num1=input('Enter first number:')\n",
        "num2=input('Enter second number:')\n",
        "sum=float(num1) + float(num2)\n",
        "print('The sum of {0} and {1} is {2}'.format(num1,num2,sum))"
      ],
      "metadata": {
        "colab": {
          "base_uri": "https://localhost:8080/"
        },
        "id": "V9hbBUD5Jmul",
        "outputId": "9dbfcbb8-473c-40be-e68f-d7b2bace6a40"
      },
      "execution_count": null,
      "outputs": [
        {
          "output_type": "stream",
          "name": "stdout",
          "text": [
            "Enter first number:1\n",
            "Enter second number:2\n",
            "The sum of 1 and 2 is 3.0\n"
          ]
        }
      ]
    },
    {
      "cell_type": "code",
      "source": [
        "num=1+2j\n",
        "num_"
      ],
      "metadata": {
        "id": "3mN6dZurL8oC"
      },
      "execution_count": null,
      "outputs": []
    }
  ]
}